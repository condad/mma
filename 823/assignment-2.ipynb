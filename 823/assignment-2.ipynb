{
 "cells": [
  {
   "cell_type": "markdown",
   "id": "5ff22740",
   "metadata": {},
   "source": [
    "# Assignment 2 — MMA 823 — Team 5"
   ]
  },
  {
   "cell_type": "markdown",
   "id": "49632e9b",
   "metadata": {},
   "source": [
    "## Question 1"
   ]
  },
  {
   "cell_type": "code",
   "execution_count": 70,
   "id": "661baffd",
   "metadata": {},
   "outputs": [
    {
     "name": "stdout",
     "output_type": "stream",
     "text": [
      "Found 40 major companies in Nasdaq-100\n"
     ]
    }
   ],
   "source": [
    "import pandas as pd\n",
    "import numpy as np\n",
    "import yfinance as yf\n",
    "\n",
    "# Fetch Nasdaq listed companies\n",
    "# List of Nasdaq-100 major companies (as of 2024)\n",
    "nasdaq_tickers = [\n",
    "    \"AAPL\",\n",
    "    \"MSFT\",\n",
    "    \"AMZN\",\n",
    "    \"NVDA\",\n",
    "    \"GOOGL\",\n",
    "    \"META\",\n",
    "    \"TSLA\",\n",
    "    \"AVGO\",\n",
    "    \"ASML\",\n",
    "    \"PEP\",\n",
    "    \"COST\",\n",
    "    \"ADBE\",\n",
    "    \"CSCO\",\n",
    "    \"NFLX\",\n",
    "    \"AMD\",\n",
    "    \"TMUS\",\n",
    "    \"CMCSA\",\n",
    "    \"INTC\",\n",
    "    \"INTU\",\n",
    "    \"QCOM\",\n",
    "    \"TXN\",\n",
    "    \"HON\",\n",
    "    \"AMAT\",\n",
    "    \"ISRG\",\n",
    "    \"BKNG\",\n",
    "    \"SBUX\",\n",
    "    \"ADP\",\n",
    "    \"GILD\",\n",
    "    \"ADI\",\n",
    "    \"MDLZ\",\n",
    "    \"REGN\",\n",
    "    \"VRTX\",\n",
    "    \"LRCX\",\n",
    "    \"PANW\",\n",
    "    \"SNPS\",\n",
    "    \"KLAC\",\n",
    "    \"CDNS\",\n",
    "    \"MELI\",\n",
    "    \"CHTR\",\n",
    "    \"MU\",\n",
    "]  # This is a subset of most prominent Nasdaq-100 companies\n",
    "risk_free_ticker = \"^IRX\"  # T-BILL\n",
    "\n",
    "print(f\"Found {len(nasdaq_tickers)} major companies in Nasdaq-100\")"
   ]
  },
  {
   "cell_type": "code",
   "execution_count": 71,
   "id": "c52ed2ea",
   "metadata": {},
   "outputs": [
    {
     "name": "stderr",
     "output_type": "stream",
     "text": [
      "[*********************100%***********************]  10 of 10 completed"
     ]
    },
    {
     "name": "stdout",
     "output_type": "stream",
     "text": [
      "Selected tickers: ['MELI' 'INTC' 'TXN' 'MDLZ' 'NFLX' 'CMCSA' 'COST' 'AMAT' 'VRTX' 'HON']\n",
      "\n",
      "Close prices head:\n",
      "Ticker           AMAT      CMCSA        COST         HON       INTC  \\\n",
      "Date                                                                  \n",
      "2020-01-01  58.338749  38.623459  266.746429  157.671875  51.981670   \n",
      "2020-01-08  59.029877  39.755962  274.437073  160.193069  52.422726   \n",
      "2020-01-15  59.834633  40.852844  286.806061  160.619217  53.410660   \n",
      "2020-01-22  56.984905  38.037201  284.599731  155.763275  59.373585   \n",
      "2020-01-29  59.654743  38.244484  279.152100  155.541336  57.741726   \n",
      "\n",
      "Ticker           MDLZ        MELI        NFLX         TXN        VRTX  \n",
      "Date                                                                   \n",
      "2020-01-01  47.287838  625.000000  330.750000  110.034615  223.789993  \n",
      "2020-01-08  47.524643  652.070007  338.690002  111.105995  229.750000  \n",
      "2020-01-15  48.708584  658.460022  338.109985  111.267532  233.990005  \n",
      "2020-01-22  48.103466  674.719971  348.519989  108.869751  231.970001  \n",
      "2020-01-29  50.366119  709.859985  369.010010  107.534798  239.660004  \n"
     ]
    },
    {
     "name": "stderr",
     "output_type": "stream",
     "text": [
      "\n"
     ]
    }
   ],
   "source": [
    "# Randomly select 5 tickers\n",
    "selected_tickers = np.random.choice(nasdaq_tickers, size=10, replace=False)\n",
    "\n",
    "# Fetch historical data for selected tickers for 2023\n",
    "start_date = \"2020-01-01\"  # TODO: Change to 2020-01-01 for assignment\n",
    "end_date = \"2023-12-31\"\n",
    "\n",
    "WEEKS_IN_YEAR = 52\n",
    "\n",
    "stock_data = yf.download(\n",
    "    selected_tickers.tolist(),\n",
    "    start=start_date,\n",
    "    end=end_date,\n",
    "    auto_adjust=True,\n",
    "    interval=\"1wk\",\n",
    ")\n",
    "risk_free_rates = yf.Ticker(risk_free_ticker).history(\n",
    "    start=start_date, end=end_date, auto_adjust=True, interval=\"1wk\"\n",
    ")[\"Close\"]\n",
    "\n",
    "# Extract only the 'Close' prices\n",
    "close_prices = stock_data[\"Close\"]\n",
    "\n",
    "print(\"Selected tickers:\", selected_tickers)\n",
    "print(\"\\nClose prices head:\")\n",
    "print(close_prices.head())"
   ]
  },
  {
   "cell_type": "code",
   "execution_count": 72,
   "id": "dd177b2e",
   "metadata": {},
   "outputs": [
    {
     "name": "stdout",
     "output_type": "stream",
     "text": [
      "Weekly returns head:\n",
      "Ticker          AMAT     CMCSA      COST       HON      INTC      MDLZ  \\\n",
      "Date                                                                     \n",
      "2020-01-08  0.011847  0.029322  0.028831  0.015990  0.008485  0.005008   \n",
      "2020-01-15  0.013633  0.027590  0.045070  0.002660  0.018846  0.024912   \n",
      "2020-01-22 -0.047627 -0.068922 -0.007693 -0.030233  0.111643 -0.012423   \n",
      "2020-01-29  0.046852  0.005449 -0.019141 -0.001425 -0.027485  0.047037   \n",
      "2020-02-05  0.022853  0.011518  0.018957  0.022487  0.029789  0.025074   \n",
      "\n",
      "Ticker          MELI      NFLX       TXN      VRTX  \n",
      "Date                                                \n",
      "2020-01-08  0.043312  0.024006  0.009737  0.026632  \n",
      "2020-01-15  0.009800 -0.001713  0.001454  0.018455  \n",
      "2020-01-22  0.024694  0.030789 -0.021550 -0.008633  \n",
      "2020-01-29  0.052081  0.058792 -0.012262  0.033151  \n",
      "2020-02-05 -0.082044  0.012683  0.040912  0.034006  \n",
      "\n",
      "Annualized Risk-Free Rate: 0.0188\n"
     ]
    }
   ],
   "source": [
    "# Calculate weekly returns (rounded to 3 decimal places)\n",
    "weekly_returns = close_prices.pct_change()\n",
    "\n",
    "# Drop the first row which contains NaN values due to the calculation\n",
    "weekly_returns = weekly_returns.dropna()\n",
    "\n",
    "# Display the first few rows of weekly returns\n",
    "print(\"Weekly returns head:\")\n",
    "print(weekly_returns.head())\n",
    "\n",
    "mean_returns = weekly_returns.mean()\n",
    "cov_matrix = weekly_returns.cov()\n",
    "\n",
    "risk_free_rates /= 100\n",
    "annualized_risk_free_rate = risk_free_rates.mean()\n",
    "print(f\"\\nAnnualized Risk-Free Rate: {annualized_risk_free_rate:.4f}\")"
   ]
  },
  {
   "cell_type": "markdown",
   "id": "e8d0eb99",
   "metadata": {},
   "source": [
    "### a)"
   ]
  },
  {
   "cell_type": "code",
   "execution_count": 73,
   "id": "dee76b90",
   "metadata": {},
   "outputs": [
    {
     "name": "stdout",
     "output_type": "stream",
     "text": [
      "Covariance matrix:\n",
      "Ticker      AMAT     CMCSA      COST       HON      INTC      MDLZ      MELI  \\\n",
      "Ticker                                                                         \n",
      "AMAT    0.003314  0.000782  0.000644  0.000887  0.001608  0.000449  0.002444   \n",
      "CMCSA   0.000782  0.001350  0.000373  0.000563  0.000716  0.000386  0.000788   \n",
      "COST    0.000644  0.000373  0.000850  0.000285  0.000431  0.000236  0.000959   \n",
      "HON     0.000887  0.000563  0.000285  0.001217  0.000608  0.000450  0.000740   \n",
      "INTC    0.001608  0.000716  0.000431  0.000608  0.002398  0.000304  0.001437   \n",
      "\n",
      "Ticker      NFLX       TXN      VRTX  \n",
      "Ticker                                \n",
      "AMAT    0.001887  0.001427  0.000503  \n",
      "CMCSA   0.000773  0.000509  0.000358  \n",
      "COST    0.000874  0.000489  0.000288  \n",
      "HON     0.000419  0.000579  0.000249  \n",
      "INTC    0.001314  0.000883  0.000361  \n"
     ]
    }
   ],
   "source": [
    "print(\"Covariance matrix:\")\n",
    "print(cov_matrix.head())"
   ]
  },
  {
   "cell_type": "code",
   "execution_count": 74,
   "id": "cd4e8e97",
   "metadata": {},
   "outputs": [],
   "source": [
    "def portfolio_annualized_performance(weights, mean_returns, cov_matrix, risk_free_rate, periods_per_year=WEEKS_IN_YEAR):\n",
    "    port_return = np.sum(mean_returns * weights) * periods_per_year\n",
    "    port_std = np.sqrt(np.dot(weights.T, np.dot(cov_matrix, weights))) * np.sqrt(periods_per_year)\n",
    "    port_sharpe = (port_return - risk_free_rate) / port_std\n",
    "    return port_std, port_return, port_sharpe"
   ]
  },
  {
   "cell_type": "markdown",
   "id": "aa73e12d",
   "metadata": {},
   "source": [
    "### b)"
   ]
  },
  {
   "cell_type": "code",
   "execution_count": 75,
   "id": "2ed344df",
   "metadata": {},
   "outputs": [
    {
     "name": "stdout",
     "output_type": "stream",
     "text": [
      "Optimal Portfolio Weights:\n",
      "   Stock  Weight\n",
      "0   MELI   0.140\n",
      "1   INTC   0.000\n",
      "2    TXN   0.640\n",
      "3   MDLZ   0.000\n",
      "4   NFLX   0.000\n",
      "5  CMCSA   0.027\n",
      "6   COST   0.014\n",
      "7   AMAT   0.000\n",
      "8   VRTX   0.000\n",
      "9    HON   0.179\n",
      "\n",
      "Portfolio Performance:\n",
      "Expected Annual Return: 0.244\n",
      "Annual Volatility: 0.193\n",
      "Sharpe Ratio: 1.169\n"
     ]
    }
   ],
   "source": [
    "from scipy.optimize import minimize  # type: ignore\n",
    "\n",
    "# Define constraints and bounds\n",
    "num_assets = len(selected_tickers)\n",
    "constraints = [{\"type\": \"eq\", \"fun\": lambda x: np.sum(x) - 1}]  # Sum of weights = 1\n",
    "bounds = tuple((0, 1) for _ in range(num_assets))  # Weights between 0 and 1\n",
    "\n",
    "\n",
    "# Define objective function to minimize (negative Sharpe ratio since we want to maximize)\n",
    "def objective(weights):\n",
    "    std, ret, sharpe = portfolio_annualized_performance(\n",
    "        weights, mean_returns, cov_matrix, annualized_risk_free_rate\n",
    "    )\n",
    "    return -sharpe  # Negative because we want to maximize Sharpe ratio\n",
    "\n",
    "\n",
    "# Initial guess (equal weights)\n",
    "init_weights = np.array([1 / num_assets] * num_assets)\n",
    "\n",
    "# Optimize portfolio\n",
    "optimal_portfolio = minimize(\n",
    "    objective,\n",
    "    init_weights,\n",
    "    method=\"SLSQP\",\n",
    "    bounds=bounds,\n",
    "    constraints=constraints,\n",
    ")\n",
    "\n",
    "# Get the optimal weights\n",
    "optimal_weights = optimal_portfolio[\"x\"]\n",
    "\n",
    "# Calculate portfolio performance with optimal weights\n",
    "opt_std, opt_ret, opt_sharpe = portfolio_annualized_performance(\n",
    "    optimal_weights, mean_returns, cov_matrix, annualized_risk_free_rate\n",
    ")\n",
    "\n",
    "# Create aW DataFrame with the results\n",
    "results = pd.DataFrame({\"Stock\": selected_tickers, \"Weight\": optimal_weights.round(3)})\n",
    "\n",
    "print(\"Optimal Portfolio Weights:\")\n",
    "print(results, end=\"\\n\\n\")\n",
    "print(f\"Portfolio Performance:\")\n",
    "print(f\"Expected Annual Return: {opt_ret:.3f}\")\n",
    "print(f\"Annual Volatility: {opt_std:.3f}\")\n",
    "print(f\"Sharpe Ratio: {opt_sharpe:.3f}\")"
   ]
  },
  {
   "cell_type": "markdown",
   "id": "679a36c1",
   "metadata": {},
   "source": [
    "### c)"
   ]
  },
  {
   "cell_type": "code",
   "execution_count": 76,
   "id": "b5417b66",
   "metadata": {},
   "outputs": [
    {
     "name": "stderr",
     "output_type": "stream",
     "text": [
      "[*********************100%***********************]  10 of 10 completed"
     ]
    },
    {
     "name": "stdout",
     "output_type": "stream",
     "text": [
      "Annualized Portfolio Return for First Week of 2024: 0.186\n",
      "Annualized Portfolio Return for First Week of 2024 (Equal Weights): -1.138\n"
     ]
    },
    {
     "name": "stderr",
     "output_type": "stream",
     "text": [
      "\n"
     ]
    }
   ],
   "source": [
    "# Calculate performance for the first week of 2024\n",
    "\n",
    "stock_data = yf.download(\n",
    "    selected_tickers.tolist(),\n",
    "    start='2024-01-01',\n",
    "    end='2024-01-08',\n",
    "    auto_adjust=True,\n",
    "    interval=\"1wk\",\n",
    ")['Close']\n",
    "\n",
    "# Calculate returns for first week of 2024\n",
    "first_week_returns = (stock_data - close_prices.iloc[-1]) / close_prices.iloc[-1]\n",
    "\n",
    "# Calculate portfolio return using optimal weights\n",
    "portfolio_return = np.dot(first_week_returns.iloc[0], optimal_weights.round(3)) * WEEKS_IN_YEAR\n",
    "\n",
    "print(f\"Annualized Portfolio Return for First Week of 2024: {float(portfolio_return):.3f}\")\n",
    "\n",
    "# Calculate portfolio return with equal weights\n",
    "equal_weights = np.array([1/len(selected_tickers)] * len(selected_tickers))\n",
    "equal_weighted_return = np.dot(first_week_returns.iloc[0], equal_weights) * WEEKS_IN_YEAR\n",
    "\n",
    "print(f\"Annualized Portfolio Return for First Week of 2024 (Equal Weights): {float(equal_weighted_return):.3f}\")"
   ]
  },
  {
   "cell_type": "markdown",
   "id": "c1955d87",
   "metadata": {},
   "source": [
    "## Question 2"
   ]
  },
  {
   "cell_type": "markdown",
   "id": "2421443c",
   "metadata": {},
   "source": [
    "### a)"
   ]
  },
  {
   "cell_type": "code",
   "execution_count": 77,
   "id": "dfd6f27b",
   "metadata": {},
   "outputs": [
    {
     "name": "stdout",
     "output_type": "stream",
     "text": [
      "Optimal Portfolio Weights (Unbounded):\n",
      "   Stock  Weight\n",
      "0   MELI   0.544\n",
      "1   INTC  -0.276\n",
      "2    TXN   1.096\n",
      "3   MDLZ  -0.024\n",
      "4   NFLX  -0.291\n",
      "5  CMCSA   0.166\n",
      "6   COST   0.051\n",
      "7   AMAT  -0.090\n",
      "8   VRTX  -0.474\n",
      "9    HON   0.298\n",
      "\n",
      "Portfolio Performance (Unbounded):\n",
      "Expected Annual Return: 0.430\n",
      "Annual Volatility: 0.296\n",
      "Sharpe Ratio: 1.390\n"
     ]
    }
   ],
   "source": [
    "# Remove bounds and optimize again\n",
    "constraints = [{\"type\": \"eq\", \"fun\": lambda x: np.sum(x) - 1}]  # Only keep sum of weights = 1\n",
    "\n",
    "# Optimize portfolio without bounds\n",
    "unbounded_portfolio = minimize(\n",
    "    objective,\n",
    "    init_weights,\n",
    "    method=\"SLSQP\",\n",
    "    constraints=constraints\n",
    ")\n",
    "\n",
    "# Get the optimal weights\n",
    "unbounded_weights = unbounded_portfolio[\"x\"]\n",
    "\n",
    "# Calculate portfolio performance with unbounded weights\n",
    "unb_std, unb_ret, unb_sharpe = portfolio_annualized_performance(\n",
    "    unbounded_weights, mean_returns, cov_matrix, annualized_risk_free_rate\n",
    ")\n",
    "\n",
    "# Create a DataFrame with the results\n",
    "unbounded_results = pd.DataFrame({\n",
    "    \"Stock\": selected_tickers,\n",
    "    \"Weight\": unbounded_weights.round(3)\n",
    "})\n",
    "\n",
    "print(\"Optimal Portfolio Weights (Unbounded):\")\n",
    "print(unbounded_results, end=\"\\n\\n\")\n",
    "print(f\"Portfolio Performance (Unbounded):\")\n",
    "print(f\"Expected Annual Return: {unb_ret:.3f}\")\n",
    "print(f\"Annual Volatility: {unb_std:.3f}\")\n",
    "print(f\"Sharpe Ratio: {unb_sharpe:.3f}\")"
   ]
  },
  {
   "cell_type": "markdown",
   "id": "16b67126",
   "metadata": {},
   "source": [
    "### b)"
   ]
  },
  {
   "cell_type": "code",
   "execution_count": 78,
   "id": "4a3f643c",
   "metadata": {},
   "outputs": [
    {
     "name": "stdout",
     "output_type": "stream",
     "text": [
      "Optimal Portfolio Weights (Max 30% per asset):\n",
      "   Stock  Weight\n",
      "0   MELI   0.186\n",
      "1   INTC   0.000\n",
      "2    TXN   0.300\n",
      "3   MDLZ   0.000\n",
      "4   NFLX   0.000\n",
      "5  CMCSA   0.221\n",
      "6   COST   0.050\n",
      "7   AMAT   0.000\n",
      "8   VRTX   0.000\n",
      "9    HON   0.243\n",
      "\n",
      "Portfolio Performance:\n",
      "Expected Annual Return: 0.226\n",
      "Annual Volatility: 0.190\n",
      "Sharpe Ratio: 1.092\n"
     ]
    }
   ],
   "source": [
    "# Define new bounds with maximum weight of 0.3\n",
    "bounds_max_30 = tuple((0, 0.3) for _ in range(num_assets))\n",
    "\n",
    "# Optimize portfolio with new bounds\n",
    "portfolio_max_30 = minimize(\n",
    "    objective,\n",
    "    init_weights,\n",
    "    method=\"SLSQP\",\n",
    "    bounds=bounds_max_30,\n",
    "    constraints=constraints\n",
    ")\n",
    "\n",
    "# Get the optimal weights\n",
    "weights_max_30 = portfolio_max_30[\"x\"]\n",
    "\n",
    "# Calculate portfolio performance with new weights\n",
    "std_max_30, ret_max_30, sharpe_max_30 = portfolio_annualized_performance(\n",
    "    weights_max_30, mean_returns, cov_matrix, annualized_risk_free_rate\n",
    ")\n",
    "\n",
    "# Create a DataFrame with the results\n",
    "results_max_30 = pd.DataFrame({\n",
    "    \"Stock\": selected_tickers,\n",
    "    \"Weight\": weights_max_30.round(3)\n",
    "})\n",
    "\n",
    "print(\"Optimal Portfolio Weights (Max 30% per asset):\")\n",
    "print(results_max_30, end=\"\\n\\n\")\n",
    "print(f\"Portfolio Performance:\")\n",
    "print(f\"Expected Annual Return: {ret_max_30:.3f}\")\n",
    "print(f\"Annual Volatility: {std_max_30:.3f}\")\n",
    "print(f\"Sharpe Ratio: {sharpe_max_30:.3f}\")"
   ]
  }
 ],
 "metadata": {
  "kernelspec": {
   "display_name": ".venv",
   "language": "python",
   "name": "python3"
  },
  "language_info": {
   "codemirror_mode": {
    "name": "ipython",
    "version": 3
   },
   "file_extension": ".py",
   "mimetype": "text/x-python",
   "name": "python",
   "nbconvert_exporter": "python",
   "pygments_lexer": "ipython3",
   "version": "3.13.7"
  }
 },
 "nbformat": 4,
 "nbformat_minor": 5
}
