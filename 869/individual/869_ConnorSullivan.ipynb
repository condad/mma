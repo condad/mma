{
  "cells": [
    {
      "cell_type": "markdown",
      "metadata": {
        "id": "HKmorPdno_n_"
      },
      "source": [
        "# MMA/MMAB 869: Individual Assignment\n",
        "\n",
        "- Connor Sullivan\n",
        "- 20504818\n",
        "- MMA 2026W\n",
        "- 08/13/2025"
      ]
    },
    {
      "cell_type": "markdown",
      "metadata": {
        "id": "emfFtv4aHBI1"
      },
      "source": [
        "# Assignment Instructions\n",
        "\n",
        "This assignment contains four questions. The questions are fully contained in this Google Colab Notebook.\n",
        "\n",
        "You are to make a copy of this Notebook and edit the copy to provide your answers. You are to complete the assignment entirely within Google Colab. Why?\n",
        "\n",
        "- It gives you practice using cloud-based interactive notebook environments (which is a popular workflow)\n",
        "- It is easier for you to manage the environment (e.g., installing packages, etc.)\n",
        "- Google Colab has nice, beefy machines, so you don't have to worry about running out of memory on your local computer.\n",
        "- It will be easier for the TA to help you debug your code if you need help\n",
        "- It will be easier for the TA to mark/run your code\n",
        "\n",
        "Some parts of this assigment require you to write code. Use Python or R. For Python, you may use standard Python libraries, including `scikit-learn`, `pandas`, `numpy`, and `scipy`. For R, you may use `dplyr`, `caret`, `ggplot2`, `rpart` and other standard libraries.\n",
        "\n",
        "Some parts of this assignment require text responses. In these cases, type your response in the Notebook cell indicated. Use English. Use proper grammar, spelling, and punctuation. Be professional and clear. Be complete, but not overly-verbose. Feel free to use [Markdown syntax](https://www.markdownguide.org/basic-syntax/) to format your answer (i.e., add bold, italics, lists, tables).\n",
        "\n",
        "## What to Submit to the Course Portal\n",
        "\n",
        "- Export your completed Notebook as a PDF file by clicking File->Print->Save as PDF.\n",
        "- Please do not submit the Notebook file (`.ipynb`) to the course portal.\n",
        "- Please submit the PDF export of the Notebook.\n",
        "   - Please name the PDF file `869_FirstnameLastName.pdf`\n",
        "      - E.g., `869_NasrinYousefi.pdf`\n",
        "   - Please make sure you have run all the cells so we can see the output!\n",
        "   - Best practice: Before exporting to PDF click Runtime->Restart and run all.\n",
        "\n"
      ]
    },
    {
      "cell_type": "markdown",
      "metadata": {
        "id": "RLlBjIyS2o54"
      },
      "source": [
        "# Question 1: Uncle Steve's Diamonds"
      ]
    },
    {
      "cell_type": "markdown",
      "metadata": {
        "id": "qj1NSQelo_oN"
      },
      "source": [
        "## Instructions\n",
        "\n",
        "You work at a local jewelry store named *Uncle Steve's Diamonds*. You started as a janitor, but you’ve recently been promoted to senior data analyst. Congratulations!\n",
        "\n",
        "Uncle Steve, the store's owner, needs to better understand the store's customers. In particular, he wants to know what kind of customers shop at the store. He wants to know the main types of *customer personas*. Once he knows these, he will contemplate ways to better market to each persona, better satisfy each persona, better cater to each persona, increase the loyalty of each persona, etc. But first, he must know the personas.\n",
        "\n",
        "You want to help Uncle Steve. Using sneaky magic (and the help of Environics), you've collected four useful features for a subset of the customers: age, income, spending score (i.e., a score based on how much they’ve spent at the store in total), and savings (i.e., how much money they have in their bank account).\n",
        "\n",
        "**Your tasks**\n",
        "\n",
        "1. Pick a clustering algorithm (the [`sklearn.cluster`](https://scikit-learn.org/stable/modules/classes.html#module-sklearn.cluster) module has many good choices, including [`KMeans`](https://scikit-learn.org/stable/modules/generated/sklearn.cluster.KMeans.html#sklearn.cluster.KMeans), [`DBSCAN`](https://scikit-learn.org/stable/modules/generated/sklearn.cluster.DBSCAN.html#sklearn.cluster.DBSCAN), and [`AgglomerativeClustering`](https://scikit-learn.org/stable/modules/generated/sklearn.cluster.AgglomerativeClustering.html#sklearn.cluster.AgglomerativeClustering) (aka Hierarchical)). (Note that another popular implementation of the hierarchical algorithm can be found in SciPy's [`scipy.cluster.hierarchy.linkage`](https://docs.scipy.org/doc/scipy/reference/generated/scipy.cluster.hierarchy.linkage.html).) Don't spend a lot of time thinking about which algorithm to choose - just pick one. Cluster the customers as best as you can, within reason. That is, try different feature preprocessing steps, hyperparameter values, and/or distance metrics. You don't need to try every posssible combination, but try a few at least. Measure how good each  model configuration is by calculating an internal validation metric (e.g., [`calinski_harabasz_score`](https://scikit-learn.org/stable/modules/generated/sklearn.metrics.calinski_harabasz_score.html) or [`silhouette_score`](https://scikit-learn.org/stable/modules/generated/sklearn.metrics.silhouette_score.html#sklearn.metrics.silhouette_score)).\n",
        "2. You have some doubts - you're not sure if the algorithm you chose in part 1 is the best algorithm for this dataset/problem. Neither is Uncle Steve. So, choose a different algorithm (any!) and do it all again.\n",
        "3. Which clustering algorithm is \"better\" in this case? Think about charateristics of the algorithm like quality of results, ease of use, speed, interpretability, etc. Choose a \"winner\" and justify to Uncle Steve.\n",
        "4. Interpret the clusters of the winning model. That is, describe, in words, a *persona* that accurately depicts each cluster. Use statistics (e.g., cluster means/distributions), examples (e.g., exemplar instances from each cluster), and/or visualizations (e.g., relative importance plots, snakeplots) to get started. Human judgement and creativity will be necessary. This is where it all comes together. Be descriptive and *help Uncle Steve understand his customers better*. Please!\n",
        "\n",
        "**Marking**\n",
        "\n",
        "The coding parts (i.e., 1 and 2) will be marked based on:\n",
        "\n",
        "- *Correctness*. Code clearly and fully performs the task specified.\n",
        "- *Reproducibility*. Code is fully reproducible. I.e., you (and I) are able to run this Notebook again and again, from top to bottom, and get the same results each time.\n",
        "- *Style*. Code is organized. All parts commented with clear reasoning and rationale. No old code laying around. Code easy to follow.\n",
        "\n",
        "\n",
        "Parts 3 and 4 will be marked on:\n",
        "\n",
        "- *Quality*. Response is well-justified and convincing. Responses uses facts and data where possible.\n",
        "- *Style*. Response uses proper grammar, spelling, and punctuation. Response is clear and professional. Response is complete, but not overly-verbose. Response follows length guidelines.\n",
        "\n",
        "\n",
        "**Tips**\n",
        "\n",
        "- Since clustering is an unsupervised ML technique, you don't need to split the data into training/validation/test or anything like that. Phew!\n",
        "- On the flip side, since clustering is unsupervised, you will never know the \"true\" clusters, and so you will never know if a given algorithm is \"correct.\" There really is no notion of \"correctness\" - only \"usefullness.\"\n",
        "- Many online clustering tutorials (including some from Uncle Steve) create flashy visualizations of the clusters by plotting the instances on a 2-D graph and coloring each point by the cluster ID. This is really nice and all, but it can only work if your dataset only has exactly two features - no more, no less. This dataset has more than two features, so you cannot use this technique. (But that's OK - you don't need to use this technique.)\n",
        "- Must you use all four features in the clustering? Not necessarily, no. But \"throwing away\" quality data, for no reason, is unlikely to improve a model.\n",
        "- Some people have success applying a dimensionality reduction technique (like [`sklearn.decomposition.PCA`](https://scikit-learn.org/stable/modules/generated/sklearn.decomposition.PCA.html)) to the features before clustering. You may do this if you wish, although it may not be as helpful in this case because there are only four features to begin with.\n",
        "- If you apply a transformation (e.g., [`MinMaxScaler`](https://scikit-learn.org/stable/modules/generated/sklearn.preprocessing.MinMaxScaler.html) or [`StandardScaler`](https://scikit-learn.org/stable/modules/generated/sklearn.preprocessing.StandardScaler.html#sklearn.preprocessing.StandardScaler)) to the features before clustering, you may have difficulty interpretting the means of the clusters (e.g., what is a mean Age of 0.2234??). There are two options to fix this: first, you can always reverse a transformation with the `inverse_transform` method. Second, you can just use the original dataset (i.e., before any preprocessing) during the interpreation step.\n",
        "- You cannot change the distance metric for K-Means. (This is for theoretical reasons: K-Means only works/makes sense with Euclidean distance.)\n"
      ]
    },
    {
      "cell_type": "markdown",
      "metadata": {
        "id": "Yww0-vtpOw7z"
      },
      "source": [
        "## 1.0: Load data"
      ]
    },
    {
      "cell_type": "code",
      "execution_count": 1,
      "metadata": {
        "id": "qVWx2c-DhQYo"
      },
      "outputs": [
        {
          "name": "stdout",
          "output_type": "stream",
          "text": [
            "<class 'pandas.core.frame.DataFrame'>\n",
            "RangeIndex: 505 entries, 0 to 504\n",
            "Data columns (total 4 columns):\n",
            " #   Column         Non-Null Count  Dtype  \n",
            "---  ------         --------------  -----  \n",
            " 0   Age            505 non-null    int64  \n",
            " 1   Income         505 non-null    int64  \n",
            " 2   SpendingScore  505 non-null    float64\n",
            " 3   Savings        505 non-null    float64\n",
            "dtypes: float64(2), int64(2)\n",
            "memory usage: 15.9 KB\n"
          ]
        }
      ],
      "source": [
        "import pandas as pd\n",
        "import numpy as np\n",
        "\n",
        "# DO NOT MODIFY THIS CELL\n",
        "df1 = pd.read_csv(\"https://drive.google.com/uc?export=download&id=1thHDCwQK3GijytoSSZNekAsItN_FGHtm\")\n",
        "df1.info()"
      ]
    },
    {
      "cell_type": "markdown",
      "metadata": {
        "id": "R04NzckZKbG2"
      },
      "source": [
        "## 1.1: Clustering Algorithm #1"
      ]
    },
    {
      "cell_type": "code",
      "execution_count": 2,
      "metadata": {
        "id": "Qeavkicwo_oN"
      },
      "outputs": [
        {
          "name": "stdout",
          "output_type": "stream",
          "text": [
            "KMeans (k=2): silhouette=0.521, calinski=490.81, time=0.0264s\n",
            "KMeans (k=3): silhouette=0.696, calinski=1066.58, time=0.0050s\n",
            "KMeans (k=4): silhouette=0.758, calinski=1611.26, time=0.0035s\n",
            "KMeans (k=5): silhouette=0.805, calinski=3671.36, time=0.0035s\n",
            "KMeans (k=6): silhouette=0.633, calinski=3198.10, time=0.0058s\n",
            "KMeans (k=7): silhouette=0.446, calinski=2860.80, time=0.0074s\n",
            "\n",
            "Best KMeans: k=5, silhouette=0.805, calinski=3671.36\n",
            "Cluster centers (original scale):\n",
            "         Age         Income  SpendingScore       Savings\n",
            "0  59.955414   72448.063694       0.771518   6889.972190\n",
            "1  87.775510   27866.102041       0.328800  16659.261445\n",
            "2  32.777778  105265.809524       0.309926  14962.778066\n",
            "3  24.180000  128029.120000       0.896892   4087.520309\n",
            "4  86.000000  119944.040000       0.068378  14808.683793\n"
          ]
        }
      ],
      "source": [
        "import time\n",
        "import pandas as pd\n",
        "from sklearn.cluster import KMeans\n",
        "from sklearn.preprocessing import StandardScaler\n",
        "from sklearn.metrics import silhouette_score, calinski_harabasz_score\n",
        "\n",
        "# 1. Feature scaling (important for KMeans)\n",
        "scaler = StandardScaler()\n",
        "X_scaled = scaler.fit_transform(df1)\n",
        "\n",
        "# 2. Create and fit KMeans\n",
        "best_silhouette = -1\n",
        "best_calinski = -1\n",
        "best_k = None\n",
        "results = []\n",
        "\n",
        "for n_clusters in range(2, 8):\n",
        "    start_kmeans = time.time()\n",
        "    kmeans = KMeans(n_clusters=n_clusters, random_state=42, n_init=10)\n",
        "    labels = kmeans.fit_predict(X_scaled)\n",
        "    end_kmeans = time.time()\n",
        "    sil = silhouette_score(X_scaled, labels)\n",
        "    cal = calinski_harabasz_score(X_scaled, labels)\n",
        "    results.append({\n",
        "        \"n_clusters\": n_clusters,\n",
        "        \"silhouette\": sil,\n",
        "        \"calinski\": cal,\n",
        "        \"time\": end_kmeans - start_kmeans\n",
        "    })\n",
        "    print(\n",
        "        f\"KMeans (k={n_clusters}): silhouette={sil:.3f}, calinski={cal:.2f}, time={end_kmeans - start_kmeans:.4f}s\"\n",
        "    )\n",
        "    if sil > best_silhouette:\n",
        "        best_silhouette = sil\n",
        "        best_calinski = cal\n",
        "        best_k = n_clusters\n",
        "        best_labels = labels\n",
        "        best_kmeans = kmeans\n",
        "\n",
        "\n",
        "# Show cluster centers for best k\n",
        "centers_original = scaler.inverse_transform(best_kmeans.cluster_centers_)\n",
        "print(f\"\\nBest KMeans: k={best_k}, silhouette={best_silhouette:.3f}, calinski={best_calinski:.2f}\")\n",
        "print(\"Cluster centers (original scale):\")\n",
        "print(pd.DataFrame(centers_original, columns=df1.columns))\n",
        "\n",
        "# Assign best clustering to df1\n",
        "df1[\"cluster_kmeans\"] = best_labels"
      ]
    },
    {
      "cell_type": "markdown",
      "metadata": {
        "id": "ihVtYBWg1NM6"
      },
      "source": [
        "## 1.2: Clustering Algorithm #2"
      ]
    },
    {
      "cell_type": "code",
      "execution_count": 3,
      "metadata": {
        "id": "Pu2xugQj1Mci"
      },
      "outputs": [
        {
          "name": "stdout",
          "output_type": "stream",
          "text": [
            "DBSCAN (eps=0.15, min_samples=3): clusters=19, silhouette=0.069, calinski=994.28, time=0.0019s\n",
            "DBSCAN (eps=0.15, min_samples=5): clusters=9, silhouette=0.502, calinski=1748.17, time=0.0012s\n",
            "DBSCAN (eps=0.15, min_samples=8): clusters=5, silhouette=0.491, calinski=2261.16, time=0.0009s\n",
            "DBSCAN (eps=0.15, min_samples=10): clusters=2, silhouette=0.491, calinski=34.71, time=0.0010s\n",
            "DBSCAN (eps=0.2, min_samples=3): clusters=11, silhouette=0.431, calinski=1950.08, time=0.0010s\n",
            "DBSCAN (eps=0.2, min_samples=5): clusters=6, silhouette=0.828, calinski=3403.19, time=0.0012s\n",
            "DBSCAN (eps=0.2, min_samples=8): clusters=3, silhouette=0.878, calinski=6219.44, time=0.0011s\n",
            "DBSCAN (eps=0.2, min_samples=10): clusters=3, silhouette=0.882, calinski=5946.21, time=0.0012s\n",
            "DBSCAN (eps=0.25, min_samples=3): clusters=6, silhouette=0.713, calinski=3746.11, time=0.0012s\n",
            "DBSCAN (eps=0.25, min_samples=5): clusters=5, silhouette=0.857, calinski=4623.12, time=0.0011s\n",
            "DBSCAN (eps=0.25, min_samples=8): clusters=6, silhouette=0.815, calinski=3578.83, time=0.0011s\n",
            "DBSCAN (eps=0.25, min_samples=10): clusters=4, silhouette=0.866, calinski=4996.09, time=0.0012s\n",
            "DBSCAN (eps=0.3, min_samples=3): clusters=5, silhouette=0.851, calinski=4676.46, time=0.0012s\n",
            "DBSCAN (eps=0.3, min_samples=5): clusters=5, silhouette=0.851, calinski=4694.82, time=0.0013s\n",
            "DBSCAN (eps=0.3, min_samples=8): clusters=5, silhouette=0.852, calinski=4632.53, time=0.0013s\n",
            "DBSCAN (eps=0.3, min_samples=10): clusters=5, silhouette=0.853, calinski=4452.92, time=0.0012s\n",
            "DBSCAN (eps=0.35, min_samples=3): clusters=5, silhouette=0.849, calinski=4691.67, time=0.0013s\n",
            "DBSCAN (eps=0.35, min_samples=5): clusters=5, silhouette=0.849, calinski=4704.66, time=0.0013s\n",
            "DBSCAN (eps=0.35, min_samples=8): clusters=5, silhouette=0.850, calinski=4694.68, time=0.0013s\n",
            "DBSCAN (eps=0.35, min_samples=10): clusters=5, silhouette=0.850, calinski=4679.32, time=0.0012s\n",
            "\n",
            "Best DBSCAN params: eps=0.2, min_samples=10\n",
            "Best silhouette: 0.882, Best calinski: 5946.21\n",
            "Cluster centers (original scale):\n",
            "                      Age         Income  SpendingScore       Savings\n",
            "cluster_dbscan                                                       \n",
            "0               59.340000   71930.640000       0.767922   6896.467039\n",
            "1               87.831579   27575.915789       0.334299  16706.533097\n",
            "2               32.160000  105828.080000       0.307794  14697.071919\n"
          ]
        }
      ],
      "source": [
        "import pandas as pd\n",
        "from sklearn.cluster import DBSCAN\n",
        "from sklearn.preprocessing import StandardScaler\n",
        "\n",
        "# 1. Feature scaling (important for DBSCAN)\n",
        "scaler = StandardScaler()\n",
        "X_scaled = scaler.fit_transform(df1)\n",
        "\n",
        "# 2. Try different DBSCAN parameters and compare metrics\n",
        "dbscan_results = []\n",
        "best_silhouette = -1\n",
        "best_calinski = -1\n",
        "best_params = None\n",
        "\n",
        "for eps in [0.15, 0.2, 0.25, 0.3, 0.35]:\n",
        "    for min_samples in [3, 5, 8, 10]:\n",
        "        start_dbscan = time.time()\n",
        "        dbscan = DBSCAN(eps=eps, min_samples=min_samples)\n",
        "        labels = dbscan.fit_predict(X_scaled)\n",
        "        end_dbscan = time.time()\n",
        "        # Only score if more than 1 cluster and not all noise\n",
        "        n_clusters = len(set(labels)) - (1 if -1 in labels else 0)\n",
        "        if n_clusters > 1 and np.any(labels != -1):\n",
        "            sil = silhouette_score(X_scaled[labels != -1], labels[labels != -1])\n",
        "            cal = calinski_harabasz_score(X_scaled[labels != -1], labels[labels != -1])\n",
        "        else:\n",
        "            sil = float(\"nan\")\n",
        "            cal = float(\"nan\")\n",
        "        dbscan_results.append(\n",
        "            {\n",
        "                \"eps\": eps,\n",
        "                \"min_samples\": min_samples,\n",
        "                \"n_clusters\": n_clusters,\n",
        "                \"silhouette\": sil,\n",
        "                \"calinski\": cal,\n",
        "                \"time\": end_dbscan - start_dbscan,\n",
        "            }\n",
        "        )\n",
        "        print(\n",
        "            f\"DBSCAN (eps={eps}, min_samples={min_samples}): \"\n",
        "            f\"clusters={n_clusters}, silhouette={sil:.3f}, calinski={cal:.2f}, \"\n",
        "            f\"time={end_dbscan - start_dbscan:.4f}s\"\n",
        "        )\n",
        "        if sil > best_silhouette:\n",
        "            best_silhouette = sil\n",
        "            best_calinski = cal\n",
        "            best_params = (eps, min_samples)\n",
        "            best_labels = labels\n",
        "\n",
        "\n",
        "# Assign best clustering to df1\n",
        "df1[\"cluster_dbscan\"] = best_labels\n",
        "\n",
        "# 3. View clusters\n",
        "cluster_centers_original = (\n",
        "    df1[df1[\"cluster_dbscan\"] != -1].groupby(\"cluster_dbscan\").mean()  # exclude noise\n",
        ")\n",
        "\n",
        "print(\"\\nBest DBSCAN params: eps={}, min_samples={}\".format(*best_params))\n",
        "print(\n",
        "    \"Best silhouette: {:.3f}, Best calinski: {:.2f}\".format(\n",
        "        best_silhouette, best_calinski\n",
        "    )\n",
        ")\n",
        "\n",
        "print(\"Cluster centers (original scale):\")\n",
        "cols_to_exclude = [\"Age\", \"Income\", \"SpendingScore\", \"Savings\"]\n",
        "cols = [col for col in cluster_centers_original.columns if col in cols_to_exclude]\n",
        "print(cluster_centers_original[cols])\n",
        "\n"
      ]
    },
    {
      "cell_type": "markdown",
      "metadata": {
        "id": "6ySJIgNr1Sfy"
      },
      "source": [
        "## 1.3 Model Comparison"
      ]
    },
    {
      "cell_type": "markdown",
      "metadata": {
        "id": "gwQembOT1L6U"
      },
      "source": [
        "While DBSCAN achieved a higher silhouette score (0.882) and Calinski–Harabasz index (5946.21) than the best KMeans model, its output consisted of only three clusters, potentially oversimplifying the customer segmentation and losing nuance in shopper diversity. DBSCAN also requires careful parameter tuning (eps and min_samples) and can be sensitive to scaling, which can make it less straightforward to deploy in a production setting. In contrast, the best KMeans model with k=5 produced well-separated clusters with strong scores (silhouette of 0.805, Calinski–Harabasz of 3671.36), offered more granular customer groupings, and maintained the advantages of speed, simplicity, and interpretability through its clear centroids. Given these factors, KMeans is the better choice in this case because it balances good clustering quality with operational ease and actionable segmentation detail."
      ]
    },
    {
      "cell_type": "markdown",
      "metadata": {
        "id": "MP2EAnCJ1Xta"
      },
      "source": [
        "## 1.4 Personas"
      ]
    },
    {
      "cell_type": "markdown",
      "metadata": {
        "id": "dVewu2TZ1XhK"
      },
      "source": [
        "Below are the personas we believe might correspond to each of our k-mean clusters:\n",
        "\n",
        "*Cluster 0* – Middle-aged, stable spenders\n",
        "Average age is about 60, with moderate income of roughly $72,000, relatively high spending scores near 0.77, and savings around $6,900. This group likely represents established professionals or semi-retirees who have steady financial resources and are willing to spend on jewellery without overspending. An example customer might be a 58-year-old office manager with a comfortable salary who purchases jewellery regularly for anniversaries and gifts.\n",
        "\n",
        "*Cluster 1* – Wealth-conserving seniors\n",
        "This is the oldest cluster, with an average age close to 88 and low-to-moderate income around $27,900 but the highest average savings of about $16,700. Their spending score is modest at about 0.33, suggesting they are financially cautious and selective in purchases. A typical member might be an 85-year-old retiree living on investments who only buys high-quality pieces for special family events.\n",
        "\n",
        "*Cluster 2* – Affluent mid-career professionals\n",
        "These customers average 33 years old, have high incomes around $105,000, and solid savings near $15,000, but a lower spending score of about 0.31. They may be career-focused individuals with disposable income who make jewellery purchases infrequently, perhaps for major milestones. An example is a 35-year-old lawyer saving for a house, who buys one or two statement pieces per year.\n",
        "\n",
        "*Cluster 3* – Young, high-spending urbanites\n",
        "The youngest cluster, averaging 24 years old, has the highest income of about $128,000 and the highest spending score near 0.90 but relatively low savings around $4,100. This group may be early-career professionals in lucrative industries who prioritize lifestyle and self-expression over saving. A typical persona could be a 25-year-old tech consultant who enjoys luxury shopping and buys jewellery on impulse.\n",
        "\n",
        "*Cluster 4* – Wealthy but frugal elders\n",
        "This group is older with an average age of 86, very high income near $120,000, and substantial savings of about $14,800 but the lowest spending score of roughly 0.07. They are likely financially secure yet disinclined to purchase jewellery frequently, perhaps due to shifting priorities in later life. An example is an 87-year-old retired executive with significant assets who rarely shops for personal items."
      ]
    },
    {
      "cell_type": "code",
      "execution_count": 4,
      "metadata": {},
      "outputs": [
        {
          "data": {
            "image/png": "[encoded data removed]",
            "text/plain": [
              "<Figure size 1000x600 with 1 Axes>"
            ]
          },
          "metadata": {},
          "output_type": "display_data"
        }
      ],
      "source": [
        "import matplotlib.pyplot as plt\n",
        "\n",
        "# Calculate cluster means for each feature (original scale)\n",
        "cluster_means = pd.DataFrame(centers_original, columns=df1.columns[:-2])\n",
        "\n",
        "# Normalize means for relative importance (z-score across clusters for each feature)\n",
        "cluster_means_norm = (cluster_means - cluster_means.mean()) / cluster_means.std()\n",
        "\n",
        "# Plot\n",
        "plt.figure(figsize=(10, 6))\n",
        "for i in range(cluster_means_norm.shape[0]):\n",
        "    plt.plot(\n",
        "        cluster_means_norm.columns,\n",
        "        cluster_means_norm.iloc[i],\n",
        "        marker=\"o\",\n",
        "        label=f\"Cluster {i}\",\n",
        "    )\n",
        "plt.title(\"Relative Importance Plot (KMeans Clusters)\")\n",
        "plt.xlabel(\"Feature\")\n",
        "plt.ylabel(\"Relative Mean (z-score)\")\n",
        "plt.legend(title=\"Cluster\")\n",
        "plt.grid(True, axis=\"y\", linestyle=\"--\", alpha=0.5)\n",
        "plt.tight_layout()\n",
        "plt.show()"
      ]
    },
    {
      "cell_type": "markdown",
      "metadata": {
        "id": "DYwuYIgczYSv"
      },
      "source": [
        "# Question 2: Uncle Steve's Fine Foods"
      ]
    },
    {
      "cell_type": "markdown",
      "metadata": {
        "id": "4oCr-mTfNG-H"
      },
      "source": [
        "## Instructions\n",
        "\n",
        "Uncle Steve runs a small, local grocery store in Ontario. The store sells all the normal food staples (e.g., bread, milk, cheese, eggs, more cheese, fruits, vegatables, meat, fish, waffles, ice cream, pasta, cereals, drinks), personal care products (e.g., toothpaste, shampoo, hair goo), medicine, and cakes. There's even a little section with flowers and greeting cards! Normal people shop here, and buy normal things in the normal way.\n",
        "\n",
        "Business is OK but Uncle Steve wants more. He's thus on the hunt for customer insights. Given your success at the jewelry store, he has asked you to help him out.\n",
        "\n",
        "He has given you a few years' worth of customer transactions, i.e., sets of items that customers have purchased. You have applied an association rules learning algorithm (like Apriori) to the data, and the algorithm has generated a large set of association rules of the form `{X} -> {Y}`, where `{X}` and `{Y}` are item-sets.\n",
        "\n",
        "Now comes a thought experiment. For each of the following scenarios, state what one of the discovered association rules might be that would meet the stated condition. (Just make up the rule, using your human experience and intuition.) Also, describe whether and why each rule would be considered interesting or uninteresting for Uncle Steve (i.e., is this insight new to him? Would he be able to use it somehow?).\n",
        "\n",
        "Keep each answer to 600 characters or less (including spaces).\n",
        "\n",
        "To get those brain juices going, an example condition and answer is provided below:\n",
        "\n",
        "> Condition: A rule that has high support.\n",
        "\n",
        "> Answer: The rule `{milk} -> {bread}` would have high support, since milk and bread are household staples and a high percentage of transactions would include both `{milk}` and `{bread}`. Uncle Steve would likely not find this rule interesting, because these items are so common, he would have surely already noticed that so many transactions contain them.\n",
        "\n",
        "**Marking**\n",
        "\n",
        "Your responses will be marked as follows:\n",
        "\n",
        "- *Correctness*. Rule meets the specificed condition, and seems plausible in an Ontario grocery store.\n",
        "- *Justification of interestness*. Response clearly describes whether and why the rule would be considered interesting to Uncle Steve.\n",
        "\n",
        "**Tips**\n",
        "\n",
        "- There is no actual data for this question. This question is just a thought exercise. You need to use your intuition, creatitivty, and understanding of the real world. I assume you are familiar with what happens inside of normal grocery stores. We are not using actual data and you do not need to create/generate/find any data. I repeat: there is no data for this question.\n",
        "- The reason this question is having you do a thought experiment, rather than writing and running code to find actual association rules on an actual dataset, is because writing code to find association rules is actually pretty easy. But using your brain to come up with rules that meet certain criteria, on the other hand, is a true test of whether you understand how the algorithm works, what support and confidence mean, and the applicability of rules. The question uses the grocery store context because most, if not all, students should be familiar from personal experience.\n",
        "\n"
      ]
    },
    {
      "cell_type": "markdown",
      "metadata": {
        "id": "3YQsOb6CzYVq"
      },
      "source": [
        "## 2.1: A rule that might have high support and high confidence."
      ]
    },
    {
      "cell_type": "markdown",
      "metadata": {
        "id": "DzXu1IvK-MEg"
      },
      "source": [
        "`{eggs} -> {milk}` — Many people buying eggs also grab milk, and both are popular staples. Likely uninteresting, as Steve already knows these basics sell well together."
      ]
    },
    {
      "cell_type": "markdown",
      "metadata": {
        "id": "VNIrAgJk-L4l"
      },
      "source": [
        "## 2.2: A rule that might have reasonably high support but low confidence."
      ]
    },
    {
      "cell_type": "markdown",
      "metadata": {
        "id": "svdzYW3S-LvF"
      },
      "source": [
        "`{bread} -> {jam}` — Bread sells a lot, but only a fraction of buyers add jam. Could be mildly useful for cross-promotions, but not surprising."
      ]
    },
    {
      "cell_type": "markdown",
      "metadata": {
        "id": "loe--LMz-Ll8"
      },
      "source": [
        "## 2.3: A rule that might have low support and low confidence."
      ]
    },
    {
      "cell_type": "markdown",
      "metadata": {
        "id": "HdyOB5fe-Zgy"
      },
      "source": [
        "`{flower bouquet} -> {frozen pizza}` — Rarely bought together, and even when bouquets are sold, pizza isn’t a common add-on. Not useful for Steve."
      ]
    },
    {
      "cell_type": "markdown",
      "metadata": {
        "id": "St2eI3We-ZYs"
      },
      "source": [
        "## 2.4: A rule that might have low support and high confidence."
      ]
    },
    {
      "cell_type": "markdown",
      "metadata": {
        "id": "LcdZc-B1-fE7"
      },
      "source": [
        "`{birthday cake} -> {birthday card}` — Few transactions involve cakes, but when they do, cards are often purchased too. Useful for bundling and display placement."
      ]
    },
    {
      "cell_type": "markdown",
      "metadata": {
        "id": "B_IHoz7f2yIV"
      },
      "source": [
        "# Question 3: Uncle Steve's Credit Union"
      ]
    },
    {
      "cell_type": "markdown",
      "metadata": {
        "id": "WhERdkp_zYBY"
      },
      "source": [
        "## Instructions\n",
        "\n",
        "Uncle Steve has recently opened a new credit union in Kingston, named *Uncle Steve's Credit Union*. He plans to disrupt the local market by instaneously providing credit to customers.\n",
        "\n",
        "The first step in Uncle Steve's master plan is to create a model to predict whether an application has *good risk* or *bad risk*. He has outsourced the creation of this model to you.\n",
        "\n",
        "You are to create a classification model to predict whether a loan applicant has good risk or bad risk. You will use data  that Uncle Steve bought from another credit union (somewhere in Europe, he thinks?) that has around 6000 instances and a number of demographics features (e.g., `Sex`, `DateOfBirth`, `Married`), loan details (e.g., `Amount`, `Purpose`), credit history (e.g., number of loans), as well as an indicator (called `BadCredit` in the dataset) as to whether that person was a bad risk.\n",
        "\n",
        "\n",
        "**Your tasks**\n",
        "\n",
        "To examine the effects of the various ML stages, you are to create the model several times, each time adding more sophistication, and measuring how much the model improved (or not). In particular, you will:\n",
        "\n",
        "0. Split the data in training and testing. Don't touch the testing data again, for any reason, until step 5. We are pretending that the testing data is \"future, unseen data that our model won't see until production.\" I'm serious, don't touch it. I'm watching you!\n",
        "1. Build a baseline model - no feature engineering, no feature selection, no hyperparameter tuning (just use the default settings), nothing fancy. (You may need to do some basic feature transformations, e.g., encoding of categorical features, or dropping of features you do not think will help or do not want to deal with yet.) Measure the performance using K-fold cross validation (recommended: [`sklearn.model_selection.cross_val_score`](https://scikit-learn.org/stable/modules/generated/sklearn.model_selection.cross_val_score.html#sklearn.model_selection.cross_val_score)) on the training data. Use at least 5 folds, but more are better. Choose a [`scoring` parameter](https://scikit-learn.org/stable/modules/model_evaluation.html#scoring-parameter) (i.e., classification metric) that you feel is appropriate for this task. Don't use accuracy. Print the mean score of your model.\n",
        "2. Add a bit of feature engineering. The [`sklearn.preprocessing`](https://scikit-learn.org/stable/modules/classes.html#module-sklearn.preprocessing) module contains many useful transformations. Engineer at least three new features. They don't need to be especially ground-breaking or complicated. Dimensionality reduction techniques like [`sklearn.decomposition.PCA`](https://scikit-learn.org/stable/modules/generated/sklearn.decomposition.PCA.html) are fair game but not required. (If you do use dimensionality reduction techniques, it would only count as \"one\" new feature for the purposes of this assignment, even though I realize that PCA creates many new \"features\" (i.e., principal components).) Re-train your baseline model. Measure performance. Compare to step 1.\n",
        "3. Add feature selection. The [`sklearn.feature_selection`](https://scikit-learn.org/stable/modules/classes.html#module-sklearn.feature_selection) has some algorithms for you to choose from. After selecting features, re-train your model, measure performance, and compare to step 2.\n",
        "4. Add hyperparameter tuning. Make reasonable choices and try to find the best (or at least, better) hyperparameters for your estimator and/or transformers. It's probably a good idea to stop using `cross_val_score` at this point and start using [`sklearn.model_selection.GridSearchCV`](https://scikit-learn.org/stable/modules/generated/sklearn.model_selection.GridSearchCV.html#sklearn.model_selection.GridSearchCV) as it is specifically built for this purpose and is more convienient to use. Measure performance and compare to step 3.\n",
        "5. Finally, using your findings from the previous steps, estimate how well your model will work in production. Use the testing data (our \"future, unseen data\") from step 0. Transform the data as appropriate (easy if you've built a pipeline, a little more difficult if not), use the model from step 4 to get predictions, and measure the performance. How well did we do?\n",
        "\n",
        "\n",
        "**Marking**\n",
        "\n",
        "Each part will be marked for:\n",
        "- *Correctness*. Code clearly and fully performs the task specified.\n",
        "- *Reproducibility*. Code is fully reproducible. I.e., you (and I) should be able to run this Notebook again and again, from top to bottom, and get the same results each and every time.\n",
        "- *Style*. Code is organized. All parts commented with clear reasoning and rationale. No old code laying around. Code easy to follow.\n",
        "\n",
        "\n",
        "**Tips**\n",
        "- The origins of the dataset are a bit of a mystery. Assume the data set is recent (circa 2022) and up-to-date. Assume that column names are correct and accurate.\n",
        "- You don't need to experiment with more than one algorithm/estimator. Just choose one (e.g., [`sklearn.tree.DecisionTreeClassifier`](https://scikit-learn.org/stable/modules/generated/sklearn.tree.DecisionTreeClassifier.html#sklearn.tree.DecisionTreeClassifier), [`sklearn.ensemble.RandomForestClassifier`](https://scikit-learn.org/stable/modules/generated/sklearn.ensemble.RandomForestClassifier.html#sklearn.ensemble.RandomForestClassifier), [`sklearn.linear_model.LogisticRegression`](https://scikit-learn.org/stable/modules/generated/sklearn.linear_model.LogisticRegression.html#sklearn.linear_model.LogisticRegression), [`sklearn.svm.LinearSVC`](https://scikit-learn.org/stable/modules/generated/sklearn.svm.LinearSVC.html#sklearn.svm.LinearSVC), whatever) and stick with it for this question.\n",
        "- There is no minimum accuracy/precision/recall for this question. I.e., your mark will not be based on how good your model is. Rather, you mark will be based on good your process is.\n",
        "- Watch out for data leakage and overfitting. In particular, be sure to `fit()` any estimators and transformers (collectively, *objects*) only to the training data, and then use the objects' `transform()` methods on both the training and testing data. [Data School](https://www.youtube.com/c/dataschool/featured) has a [helpful video](https://www.youtube.com/watch?v=g2XsZdwbCCs) about this. [Pipelines](https://www.youtube.com/watch?v=1Y6O9nCo0-I) are very helpful here and make your code shorter and more robust (at the expense of making it harder to understand), and I recommend using them, but they are not required for this assignment.\n",
        "- Create as many code cells as you need. In general, each cell should do one \"thing.\"\n",
        "-\tDon't print large volumes of output. E.g., don't do: `df.head(100)`\n",
        "\n",
        "\n"
      ]
    },
    {
      "cell_type": "markdown",
      "metadata": {
        "id": "jqm_REd4oouz"
      },
      "source": [
        "## 3.0: Load data and split"
      ]
    },
    {
      "cell_type": "code",
      "execution_count": 5,
      "metadata": {
        "id": "X6b_BM0Nz9sF"
      },
      "outputs": [
        {
          "name": "stdout",
          "output_type": "stream",
          "text": [
            "<class 'pandas.core.frame.DataFrame'>\n",
            "RangeIndex: 6000 entries, 0 to 5999\n",
            "Data columns (total 17 columns):\n",
            " #   Column             Non-Null Count  Dtype \n",
            "---  ------             --------------  ----- \n",
            " 0   UserID             6000 non-null   object\n",
            " 1   Sex                6000 non-null   object\n",
            " 2   PreviousDefault    6000 non-null   int64 \n",
            " 3   FirstName          6000 non-null   object\n",
            " 4   LastName           6000 non-null   object\n",
            " 5   NumberPets         6000 non-null   int64 \n",
            " 6   PreviousAccounts   6000 non-null   int64 \n",
            " 7   ResidenceDuration  6000 non-null   int64 \n",
            " 8   Street             6000 non-null   object\n",
            " 9   LicensePlate       6000 non-null   object\n",
            " 10  BadCredit          6000 non-null   int64 \n",
            " 11  Amount             6000 non-null   int64 \n",
            " 12  Married            6000 non-null   int64 \n",
            " 13  Duration           6000 non-null   int64 \n",
            " 14  City               6000 non-null   object\n",
            " 15  Purpose            6000 non-null   object\n",
            " 16  DateOfBirth        6000 non-null   object\n",
            "dtypes: int64(8), object(9)\n",
            "memory usage: 797.0+ KB\n"
          ]
        }
      ],
      "source": [
        "# DO NOT MODIFY THIS CELL\n",
        "\n",
        "# First, we'll read the provided labeled training data\n",
        "df3 = pd.read_csv(\"https://drive.google.com/uc?export=download&id=1wOhyCnvGeY4jplxI8lZ-bbYN3zLtickf\")\n",
        "df3.info()\n",
        "df3.to_csv('./q3.csv')\n",
        "\n",
        "from sklearn.model_selection import train_test_split\n",
        "\n",
        "X = df3.drop('BadCredit', axis=1) #.select_dtypes(['number'])\n",
        "y = df3['BadCredit']\n",
        "\n",
        "X_train, X_test, y_train, y_test = train_test_split(X, y, test_size=0.2, random_state=42)"
      ]
    },
    {
      "cell_type": "markdown",
      "metadata": {
        "id": "sdiKKblCo53S"
      },
      "source": [
        "## 3.1: Baseline model"
      ]
    },
    {
      "cell_type": "code",
      "execution_count": 6,
      "metadata": {
        "id": "mSumAZUAo9O6"
      },
      "outputs": [
        {
          "name": "stdout",
          "output_type": "stream",
          "text": [
            "Baseline Logistic Regression ROC AUC (mean over 5 folds): 0.835\n"
          ]
        }
      ],
      "source": [
        "# ## 3.1: Baseline model\n",
        "from sklearn.linear_model import LogisticRegression\n",
        "from sklearn.preprocessing import OneHotEncoder, StandardScaler\n",
        "from sklearn.compose import ColumnTransformer\n",
        "from sklearn.pipeline import Pipeline\n",
        "from sklearn.model_selection import cross_val_score\n",
        "\n",
        "# Identify categorical and numerical columns\n",
        "categorical_cols = X_train.select_dtypes(include=[\"object\", \"category\"]).columns.tolist()\n",
        "numerical_cols = X_train.select_dtypes(include=[\"number\"]).columns.tolist()\n",
        "\n",
        "# Preprocessing pipeline\n",
        "preprocessor = ColumnTransformer(\n",
        "    transformers=[\n",
        "        (\"num\", StandardScaler(), numerical_cols),\n",
        "        (\"cat\", OneHotEncoder(handle_unknown=\"ignore\"), categorical_cols),\n",
        "    ]\n",
        ")\n",
        "\n",
        "# Logistic Regression pipeline\n",
        "clf = Pipeline(\n",
        "    steps=[\n",
        "        (\"preprocessor\", preprocessor),\n",
        "        (\"classifier\", LogisticRegression(max_iter=1000, random_state=42)),\n",
        "    ]\n",
        ")\n",
        "\n",
        "# Evaluate with cross-validation (use ROC AUC as metric)\n",
        "scores = cross_val_score(clf, X_train, y_train, cv=5, scoring=\"roc_auc\")\n",
        "print(f\"Baseline Logistic Regression ROC AUC (mean over 5 folds): {scores.mean():.3f}\")"
      ]
    },
    {
      "cell_type": "markdown",
      "metadata": {
        "id": "ugyTS51Ko5vz"
      },
      "source": [
        "## 3.2: Adding feature engineering"
      ]
    },
    {
      "cell_type": "code",
      "execution_count": 7,
      "metadata": {
        "id": "742aYkYbprVD"
      },
      "outputs": [],
      "source": [
        "# Create 'Age' feature\n",
        "\n",
        "# Assume application_date is the same for all: use latest date in dataset or a fixed date\n",
        "application_date = pd.to_datetime(\"2025-07-01\")\n",
        "\n",
        "X_train = X_train.copy()\n",
        "X_test = X_test.copy()\n",
        "\n",
        "# Convert DateOfBirth to datetime if not already\n",
        "X_train[\"DateOfBirth\"] = pd.to_datetime(X_train[\"DateOfBirth\"])\n",
        "X_test[\"DateOfBirth\"] = pd.to_datetime(X_test[\"DateOfBirth\"])\n",
        "\n",
        "# Calculate age in years (approximate)\n",
        "X_train[\"Age\"] = (application_date - X_train[\"DateOfBirth\"]).dt.days // 365\n",
        "X_test[\"Age\"] = (application_date - X_test[\"DateOfBirth\"]).dt.days // 365\n",
        "\n",
        "# Create 'FinancialCommitmentsRatio' feature. This is a simple ratio of financial commitments to residence duration\n",
        "X_train[\"FinancialCommitmentsRatio\"] = (\n",
        "    X_train[\"PreviousAccounts\"] + X_train[\"NumberPets\"]\n",
        ") / X_train[\"ResidenceDuration\"].replace(0, np.nan)\n",
        "X_test[\"FinancialCommitmentsRatio\"] = (\n",
        "    X_test[\"PreviousAccounts\"] + X_test[\"NumberPets\"]\n",
        ") / X_test[\"ResidenceDuration\"].replace(0, np.nan)\n",
        "\n",
        "# Create 'MaritalStability' feature. This is a simple interaction term between marital status and residence duration\n",
        "X_train[\"MaritalStability\"] = (X_train[\"Married\"] == \"yes\").astype(int) * X_train[\"ResidenceDuration\"]\n",
        "X_test[\"MaritalStability\"] = (X_test[\"Married\"] == \"yes\").astype(int) * X_test[\"ResidenceDuration\"]"
      ]
    },
    {
      "cell_type": "markdown",
      "metadata": {
        "id": "PsdD0clko5pz"
      },
      "source": [
        "## 3.3: Adding feature selection"
      ]
    },
    {
      "cell_type": "code",
      "execution_count": 8,
      "metadata": {
        "id": "rxX2ERqzpqxi"
      },
      "outputs": [
        {
          "name": "stdout",
          "output_type": "stream",
          "text": [
            "Logistic Regression with Feature Selection ROC AUC (mean over 5 folds): 0.919\n"
          ]
        }
      ],
      "source": [
        "from sklearn.feature_selection import SelectFromModel\n",
        "from sklearn.ensemble import RandomForestClassifier\n",
        "from sklearn.impute import SimpleImputer\n",
        "\n",
        "\n",
        "# Re-identify columns after feature engineering\n",
        "categorical_cols = X_train.select_dtypes(include=[\"object\", \"category\"]).columns.tolist()\n",
        "numerical_cols = X_train.select_dtypes(include=[\"number\"]).columns.tolist()\n",
        "\n",
        "# Preprocessing pipeline (same as before)\n",
        "preprocessor = ColumnTransformer(\n",
        "    transformers=[\n",
        "        (\"num\", StandardScaler(), numerical_cols),\n",
        "        (\"cat\", OneHotEncoder(handle_unknown=\"ignore\"), categorical_cols),\n",
        "    ]\n",
        ")\n",
        "\n",
        "# Feature selection using RandomForestClassifier as estimator\n",
        "feature_selector = SelectFromModel(RandomForestClassifier(n_estimators=100, random_state=42))\n",
        "\n",
        "# Pipeline with preprocessing, feature selection, and classifier\n",
        "clf_fs = Pipeline(\n",
        "    steps=[\n",
        "        (\"preprocessor\", preprocessor),\n",
        "        (\"impute\", SimpleImputer(strategy=\"mean\")),\n",
        "        (\"feature_selection\", feature_selector),\n",
        "        (\"classifier\", LogisticRegression(max_iter=1000, random_state=42)),\n",
        "    ]\n",
        ")\n",
        "\n",
        "# Evaluate with cross-validation (ROC AUC)\n",
        "scores_fs = cross_val_score(clf_fs, X_train, y_train, cv=5, scoring=\"roc_auc\")\n",
        "print(f\"Logistic Regression with Feature Selection ROC AUC (mean over 5 folds): {scores_fs.mean():.3f}\")"
      ]
    },
    {
      "cell_type": "markdown",
      "metadata": {
        "id": "Ff4l2aNKo5fr"
      },
      "source": [
        "## 3.4: Adding hyperparameter tuning"
      ]
    },
    {
      "cell_type": "code",
      "execution_count": 9,
      "metadata": {
        "id": "7XaxtTWMpIpP"
      },
      "outputs": [
        {
          "name": "stdout",
          "output_type": "stream",
          "text": [
            "Fitting 5 folds for each of 30 candidates, totalling 150 fits\n",
            "Best ROC AUC: 0.925\n",
            "Best parameters: {'classifier__C': 0.1, 'classifier__penalty': 'l1', 'classifier__solver': 'liblinear', 'feature_selection__estimator__n_estimators': 200}\n"
          ]
        }
      ],
      "source": [
        "from sklearn.model_selection import GridSearchCV\n",
        "\n",
        "# Define parameter grid for LogisticRegression and RandomForest feature selector\n",
        "param_grid = {\n",
        "    \"feature_selection__estimator__n_estimators\": [50, 100, 200],\n",
        "    \"classifier__C\": [0.001, 0.01, 0.1, 1, 10],\n",
        "    \"classifier__penalty\": [\"l2\", \"l1\"],\n",
        "    \"classifier__solver\": [\"liblinear\"],\n",
        "}\n",
        "\n",
        "# Reuse pipeline from previous step (clf_fs)\n",
        "grid_search = GridSearchCV(\n",
        "    clf_fs,\n",
        "    param_grid,\n",
        "    cv=5,\n",
        "    scoring=\"roc_auc\",\n",
        "    n_jobs=-1,\n",
        "    verbose=1,\n",
        ")\n",
        "\n",
        "grid_search.fit(X_train, y_train)\n",
        "print(f\"Best ROC AUC: {grid_search.best_score_:.3f}\")\n",
        "print(\"Best parameters:\", grid_search.best_params_)"
      ]
    },
    {
      "cell_type": "markdown",
      "metadata": {
        "id": "Te9gGGLEpXRG"
      },
      "source": [
        "## 3.5: Performance estimation on testing data"
      ]
    },
    {
      "cell_type": "code",
      "execution_count": 10,
      "metadata": {
        "id": "YV_35bEupbfs"
      },
      "outputs": [
        {
          "name": "stdout",
          "output_type": "stream",
          "text": [
            "Test ROC AUC: 0.935\n",
            "Classification report on test data:\n",
            "              precision    recall  f1-score   support\n",
            "\n",
            "           0       0.91      0.97      0.94       991\n",
            "           1       0.78      0.57      0.66       209\n",
            "\n",
            "    accuracy                           0.90      1200\n",
            "   macro avg       0.85      0.77      0.80      1200\n",
            "weighted avg       0.89      0.90      0.89      1200\n",
            "\n"
          ]
        }
      ],
      "source": [
        "from sklearn.metrics import roc_auc_score, classification_report\n",
        "\n",
        "# Use the best estimator from grid search\n",
        "best_model = grid_search.best_estimator_\n",
        "\n",
        "# Predict probabilities and classes on the test set\n",
        "y_pred_proba = best_model.predict_proba(X_test)[:, 1]\n",
        "y_pred = best_model.predict(X_test)\n",
        "\n",
        "# Evaluate ROC AUC and print classification report\n",
        "roc_auc = roc_auc_score(y_test, y_pred_proba)\n",
        "print(f\"Test ROC AUC: {roc_auc:.3f}\")\n",
        "print(\"Classification report on test data:\")\n",
        "print(classification_report(y_test, y_pred))"
      ]
    },
    {
      "cell_type": "markdown",
      "metadata": {},
      "source": [
        "Our optimized logistic regression model achieved strong performance, with a test ROC AUC of 0.935—an improvement from the baseline score of 0.835 prior to feature engineering, feature selection, and hyperparameter tuning. On the test set, it reached an overall accuracy of 89%, with high precision and recall for the majority class (class 0) and more modest recall for the minority class (class 1). The best configuration used L1 regularization with C = 0.1, the liblinear solver, and feature selection via a tree-based estimator with 200 trees."
      ]
    },
    {
      "cell_type": "markdown",
      "metadata": {
        "id": "bPiErnUaTQSk"
      },
      "source": [
        "# Question 4: Uncle Steve's Wind Farm"
      ]
    },
    {
      "cell_type": "markdown",
      "metadata": {
        "id": "NzLLQCmKTk9E"
      },
      "source": [
        "## Instructions\n",
        "\n",
        "\n",
        "Uncle Steve has invested in wind. He's built a BIG wind farm with a total of  700 turbines. He's been running the farm for a couple of years now and things are going well. He sells the power generated by the farm to the Kingston government and makes a tidy profit. And, of course, he has been gathering data about the turbines' operations.\n",
        "\n",
        "One area of concern, however, is the cost of maintenece. While the turbines are fairly robust, it seems like one breaks/fails every couple of days. When a turbine fails, it usually costs around $20,000 to repair it. Yikes!\n",
        "\n",
        "Currently, Uncle Steve is not doing any preventative maintenance. He just waits until a turbine fails, and then he fixes it. But Uncle Steve has recently learned that if he services a turbine *before* it fails, it will only cost around $2,000.\n",
        "\n",
        "Obviously, there is a potential to save a lot of money here. But first, Uncle Steve would need to figure out *which* turbines are about to fail. Uncle Steve being Uncle Steve, he wants to use ML to build a predictive maintenance model. The model will alert Uncle Steve to potential turbine failures before they happen, giving Uncle Steve a chance to perform an inspection on the turbine and then fix the turbine before it fails. Uncle Steve plans to run the model every morning. For all the turbines that the model predicts will fail, Uncle Steve will order an inspection (which cost a flat $500, no matter if the turbine was in good health or not; the $500 would not be part of the $2,000 service cost). For the rest of the turbines, Uncle Steve will do nothing.\n",
        "\n",
        "Uncle Steve has used the last few year's worth of operation data to build and assess a model to predict which turbines will fail on any given day. (The data includes useful features like sensor readings, power output, weather, and many more, but those are not important for now.) In fact, he didn't stop there: he built and assessed two models. One model uses using deep learning (in this case, RNNs), and the other uses random forests.\n",
        "\n",
        "He's tuned the bejeebers out of each model and is comfortable that he has found the best-performing version of each. Both models seem really good: both have accuracy scores > 99%. The RNN has better recall, but Uncle Steve is convinced that the random forest model will be better for him since it has better precision. Just to be sure, he has hired you to double check his calculations.\n",
        "\n",
        "**Your task**\n",
        "\n",
        " Which model will save Uncle Steve more money? Justify.\n",
        "\n",
        "\n",
        "In addition to the details above, here is the assessment of each model:\n",
        "\n",
        "- Confusion matrix for the random forest:\n",
        "\n",
        "|         | Predicted Fail           | Predicted No Fail  |\n",
        "| ------------- |------------| -----:|\n",
        "| **Actual Fail**      | 201 | 55 |\n",
        "| **Actual No Fail**   | 50 | 255195 |\n",
        "\n",
        "- Confusion matrix for the RNN:\n",
        "\n",
        "|         | Predicted Fail           | Predicted No Fail  |\n",
        "| ------------- |------------| -----:|\n",
        "| **Actual Fail**      | 226 | 30 |\n",
        "| **Actual No Fail**   | 1200 | 254045 |\n",
        "\n",
        "\n",
        "**Marking**\n",
        "\n",
        "- *Quality*. Response is well-justified and convincing.\n",
        "- *Style*. Response uses proper grammar, spelling, and punctuation. Response is clear and professional. Response is complete, but not overly-verbose. Response follows length guidelines.\n",
        "\n",
        "\n",
        "\n",
        "**Tips**\n",
        "\n",
        "- Figure out how much Uncle Steve is currently (i.e., without any predictive maintinance models) paying in maintenance costs.\n",
        "- Use the information provided above to create a cost matrix.\n",
        "- Use the cost matrix and the confusion matrices to determine the costs of each model.\n",
        "- The cost of an inspection is the same, no matter if the turbine is in good condition or is about to fail.\n",
        "- If the inspection determines that a turbine is about to fail, then it will be fixed right then and there for the additional fee.\n",
        "- For simplicity, assume the inspections are perfect: i.e., that inspecting a turbine will definitely catch any problems that might exist, and won't accidentally flag an otherwise-healthy turbine.\n",
        "\n"
      ]
    },
    {
      "cell_type": "markdown",
      "metadata": {
        "id": "nAf1SIeKTkfl"
      },
      "source": [
        "Using no model, Uncle Steve currently pays for repairs only when a turbine actually fails. Based on the confusion matrices, there are 256 actual failures in the data, which at $20,000 per repair costs $5,120,000 per year. When a predictive model is used, any turbine predicted to fail is inspected for $500. If it is truly about to fail, it is then serviced immediately for an additional $2,000. If the model misses a failure, the turbine breaks and the full $20,000 repair cost applies. For the random forest, the cost is 201 × $2,500 for true positives, plus 50 × $500 for false positives, plus 55 × $20,000 for false negatives, which totals $1,627,500. For the RNN, the cost is 226 × $2,500 for true positives, plus 1,200 × $500 for false positives, plus 30 × $20,000 for false negatives, which totals $1,765,000. Compared to the current cost of $5,120,000, the random forest saves $3,492,500 while the RNN saves $3,355,000. Although the RNN identifies more actual failures, it produces far more false positives, which leads to many unnecessary inspections. This extra cost outweighs the benefit of its higher recall. In this case, the random forest is the better choice because its higher precision results in greater overall savings.\n"
      ]
    }
  ],
  "metadata": {
    "colab": {
      "provenance": [],
      "toc_visible": true
    },
    "kernelspec": {
      "display_name": ".venv",
      "language": "python",
      "name": "python3"
    },
    "language_info": {
      "codemirror_mode": {
        "name": "ipython",
        "version": 3
      },
      "file_extension": ".py",
      "mimetype": "text/x-python",
      "name": "python",
      "nbconvert_exporter": "python",
      "pygments_lexer": "ipython3",
      "version": "3.13.5"
    }
  },
  "nbformat": 4,
  "nbformat_minor": 0
}
